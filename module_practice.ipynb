{
 "cells": [
  {
   "cell_type": "code",
   "execution_count": 2,
   "metadata": {},
   "outputs": [
    {
     "name": "stdout",
     "output_type": "stream",
     "text": [
      "4.0\n"
     ]
    }
   ],
   "source": [
    "import math\n",
    "print(math.sqrt(16))"
   ]
  },
  {
   "cell_type": "code",
   "execution_count": 3,
   "metadata": {},
   "outputs": [
    {
     "name": "stdout",
     "output_type": "stream",
     "text": [
      "8.0\n"
     ]
    }
   ],
   "source": [
    "print(math.pow(2,3))"
   ]
  },
  {
   "cell_type": "code",
   "execution_count": 4,
   "metadata": {},
   "outputs": [
    {
     "name": "stdout",
     "output_type": "stream",
     "text": [
      "2.302585092994046\n",
      "2.0\n"
     ]
    }
   ],
   "source": [
    "print(math.log(10))\n",
    "print(math.log(100,10))"
   ]
  },
  {
   "cell_type": "code",
   "execution_count": 5,
   "metadata": {},
   "outputs": [
    {
     "name": "stdout",
     "output_type": "stream",
     "text": [
      "6\n"
     ]
    }
   ],
   "source": [
    "import random\n",
    "print(random.randint(1,10))"
   ]
  },
  {
   "cell_type": "code",
   "execution_count": 6,
   "metadata": {},
   "outputs": [
    {
     "name": "stdout",
     "output_type": "stream",
     "text": [
      "구글\n"
     ]
    }
   ],
   "source": [
    "items = ['삼성', '애플', '구글']\n",
    "print(random.choice(items))"
   ]
  },
  {
   "cell_type": "code",
   "execution_count": 7,
   "metadata": {},
   "outputs": [
    {
     "name": "stdout",
     "output_type": "stream",
     "text": [
      "[4, 5, 1, 2, 3]\n"
     ]
    }
   ],
   "source": [
    "numbers = [1,2,3,4,5]\n",
    "random.shuffle(numbers)\n",
    "print(numbers)"
   ]
  },
  {
   "cell_type": "code",
   "execution_count": 8,
   "metadata": {},
   "outputs": [
    {
     "name": "stdout",
     "output_type": "stream",
     "text": [
      "0.380139060402345\n"
     ]
    }
   ],
   "source": [
    "print(random.random())"
   ]
  },
  {
   "cell_type": "code",
   "execution_count": 9,
   "metadata": {},
   "outputs": [
    {
     "name": "stdout",
     "output_type": "stream",
     "text": [
      "Counter({'S': 1, 'a': 1, 'm': 1, 's': 1, 'u': 1, 'n': 1, 'g': 1})\n"
     ]
    }
   ],
   "source": [
    "from collections import Counter\n",
    "char_count = Counter(\"Samsung\")\n",
    "print(char_count)"
   ]
  },
  {
   "cell_type": "code",
   "execution_count": 10,
   "metadata": {},
   "outputs": [
    {
     "name": "stdout",
     "output_type": "stream",
     "text": [
      "Counter({'삼성': 3, '애플': 2, '아마존': 1})\n",
      "가장 많이 나타나는 요소 1개, 결과: [('삼성', 3)]\n",
      "'애플'의 개수, 결과: 2\n",
      "전체 요소의 개수, 결과: 6\n"
     ]
    }
   ],
   "source": [
    "from collections import Counter\n",
    "\n",
    "# 단어 리스트 생성\n",
    "word_list = ['삼성', '애플', '삼성', '아마존', '애플', '삼성']\n",
    "\n",
    "# 단어 빈도수 세기\n",
    "word_count = Counter(word_list)\n",
    "print(word_count)\n",
    "\n",
    "# 가장 흔한 요소 찾기\n",
    "most_common_word = word_count.most_common(1)\n",
    "print(f\"가장 많이 나타나는 요소 1개, 결과: {most_common_word}\")\n",
    "\n",
    "# 특정 요소의 개수 얻기\n",
    "specific_word_count = word_count['애플']\n",
    "print(f\"'애플'의 개수, 결과: {specific_word_count}\")\n",
    "\n",
    "# 요소들의 총 개수 얻기\n",
    "total_count = sum(word_count.values())\n",
    "print(f\"전체 요소의 개수, 결과: {total_count}\")\n"
   ]
  },
  {
   "cell_type": "code",
   "execution_count": 11,
   "metadata": {},
   "outputs": [
    {
     "name": "stdout",
     "output_type": "stream",
     "text": [
      "Before: ['c:\\\\Users\\\\r2com\\\\Documents\\\\practice\\\\SeSAC_Practice', 'C:\\\\Users\\\\r2com\\\\AppData\\\\Local\\\\Programs\\\\Python\\\\Python312\\\\python312.zip', 'C:\\\\Users\\\\r2com\\\\AppData\\\\Local\\\\Programs\\\\Python\\\\Python312\\\\DLLs', 'C:\\\\Users\\\\r2com\\\\AppData\\\\Local\\\\Programs\\\\Python\\\\Python312\\\\Lib', 'C:\\\\Users\\\\r2com\\\\AppData\\\\Local\\\\Programs\\\\Python\\\\Python312', 'c:\\\\Users\\\\r2com\\\\Documents\\\\practice\\\\.venv', '', 'c:\\\\Users\\\\r2com\\\\Documents\\\\practice\\\\.venv\\\\Lib\\\\site-packages', 'c:\\\\Users\\\\r2com\\\\Documents\\\\practice\\\\.venv\\\\Lib\\\\site-packages\\\\win32', 'c:\\\\Users\\\\r2com\\\\Documents\\\\practice\\\\.venv\\\\Lib\\\\site-packages\\\\win32\\\\lib', 'c:\\\\Users\\\\r2com\\\\Documents\\\\practice\\\\.venv\\\\Lib\\\\site-packages\\\\Pythonwin']\n",
      "After: ['c:\\\\Users\\\\r2com\\\\Documents\\\\practice\\\\SeSAC_Practice', 'C:\\\\Users\\\\r2com\\\\AppData\\\\Local\\\\Programs\\\\Python\\\\Python312\\\\python312.zip', 'C:\\\\Users\\\\r2com\\\\AppData\\\\Local\\\\Programs\\\\Python\\\\Python312\\\\DLLs', 'C:\\\\Users\\\\r2com\\\\AppData\\\\Local\\\\Programs\\\\Python\\\\Python312\\\\Lib', 'C:\\\\Users\\\\r2com\\\\AppData\\\\Local\\\\Programs\\\\Python\\\\Python312', 'c:\\\\Users\\\\r2com\\\\Documents\\\\practice\\\\.venv', '', 'c:\\\\Users\\\\r2com\\\\Documents\\\\practice\\\\.venv\\\\Lib\\\\site-packages', 'c:\\\\Users\\\\r2com\\\\Documents\\\\practice\\\\.venv\\\\Lib\\\\site-packages\\\\win32', 'c:\\\\Users\\\\r2com\\\\Documents\\\\practice\\\\.venv\\\\Lib\\\\site-packages\\\\win32\\\\lib', 'c:\\\\Users\\\\r2com\\\\Documents\\\\practice\\\\.venv\\\\Lib\\\\site-packages\\\\Pythonwin', '~/Documents/Github/sesac-practice']\n"
     ]
    }
   ],
   "source": [
    "import sys\n",
    "\n",
    "# 현재 sys.path 출력\n",
    "print(\"Before:\", sys.path)\n",
    "\n",
    "# 새로운 경로 추가\n",
    "sys.path.append('~/Documents/Github/sesac-practice')\n",
    "\n",
    "# 변경 후 sys.path 출력\n",
    "print(\"After:\", sys.path)\n"
   ]
  },
  {
   "cell_type": "code",
   "execution_count": 12,
   "metadata": {},
   "outputs": [
    {
     "name": "stdout",
     "output_type": "stream",
     "text": [
      "c:\\Users\\r2com\\Documents\\practice\\SeSAC_Practice\n"
     ]
    }
   ],
   "source": [
    "import os\n",
    "currrnt_directory = os.getcwd()\n",
    "print(currrnt_directory)"
   ]
  },
  {
   "cell_type": "code",
   "execution_count": 13,
   "metadata": {},
   "outputs": [
    {
     "name": "stdout",
     "output_type": "stream",
     "text": [
      "['.git', 'Brackets.ipynb', 'Calc.py', 'decoraqtor.ipynb', 'dictionary.ipynb', 'example.txt', 'fanc.ipynb', 'hello.py', 'id_func.py', 'module_practice.ipynb', 'pikachu.py', 'practice.ipynb', 'README.md', 'strip_method.py']\n"
     ]
    }
   ],
   "source": [
    "files = os.listdir('.')\n",
    "print(files)"
   ]
  },
  {
   "cell_type": "code",
   "execution_count": 14,
   "metadata": {},
   "outputs": [
    {
     "data": {
      "text/plain": [
       "'nt'"
      ]
     },
     "execution_count": 14,
     "metadata": {},
     "output_type": "execute_result"
    }
   ],
   "source": [
    "os.name"
   ]
  },
  {
   "cell_type": "code",
   "execution_count": 15,
   "metadata": {},
   "outputs": [
    {
     "data": {
      "text/plain": [
       "0"
      ]
     },
     "execution_count": 15,
     "metadata": {},
     "output_type": "execute_result"
    }
   ],
   "source": [
    "os.system('echo Hello world')"
   ]
  },
  {
   "cell_type": "code",
   "execution_count": 16,
   "metadata": {},
   "outputs": [
    {
     "name": "stdout",
     "output_type": "stream",
     "text": [
      "5초 후에 출력됩니다.\n"
     ]
    }
   ],
   "source": [
    "import time\n",
    "time.sleep(5)\n",
    "print(\"5초 후에 출력됩니다.\")"
   ]
  },
  {
   "cell_type": "code",
   "execution_count": 17,
   "metadata": {},
   "outputs": [
    {
     "name": "stdout",
     "output_type": "stream",
     "text": [
      "1704946632.6555784\n"
     ]
    }
   ],
   "source": [
    "#현재 시간을 에포크(epoch) 시간(1970년 1월 1일 0시 0분 0초로부터 경과된 시간)으로 반환\n",
    "current_time = time.time()\n",
    "print(current_time)"
   ]
  },
  {
   "cell_type": "code",
   "execution_count": 18,
   "metadata": {},
   "outputs": [
    {
     "name": "stdout",
     "output_type": "stream",
     "text": [
      "2024-01-11 13:18:47\n"
     ]
    }
   ],
   "source": [
    "#현재 시간을 지정된 형식의 문자열로 변환\n",
    "local_time = time.localtime()\n",
    "formatted_time = time.strftime(\"%Y-%m-%d %H:%M:%S\", local_time)\n",
    "print(formatted_time)"
   ]
  },
  {
   "cell_type": "code",
   "execution_count": 25,
   "metadata": {},
   "outputs": [
    {
     "name": "stdout",
     "output_type": "stream",
     "text": [
      "2024-01-11 13:28:55.450047\n"
     ]
    }
   ],
   "source": [
    "# datetime 모듈 날짜와 시간을 조작하기 위한 클래스 제공\n",
    "from datetime import datetime\n",
    "#현재 날짜와 시간 가져오기\n",
    "now = datetime.now()\n",
    "print(now)"
   ]
  },
  {
   "cell_type": "code",
   "execution_count": 26,
   "metadata": {},
   "outputs": [
    {
     "name": "stdout",
     "output_type": "stream",
     "text": [
      "2021-01-01 12:00:00\n"
     ]
    }
   ],
   "source": [
    "#지정된 날짜와 시간으로 datetime 객체 생성\n",
    "specific_time = datetime(2021, 1, 1, 12, 0)\n",
    "print(specific_time)"
   ]
  },
  {
   "cell_type": "code",
   "execution_count": 28,
   "metadata": {},
   "outputs": [
    {
     "name": "stdout",
     "output_type": "stream",
     "text": [
      "2024-01-11\n"
     ]
    }
   ],
   "source": [
    "#날짜만 다루기 (date)\n",
    "from datetime import date\n",
    "today = date.today()\n",
    "print(today)"
   ]
  },
  {
   "cell_type": "code",
   "execution_count": 29,
   "metadata": {},
   "outputs": [
    {
     "name": "stdout",
     "output_type": "stream",
     "text": [
      "2021-01-01\n"
     ]
    }
   ],
   "source": [
    "specific_date = date(2021, 1, 1)\n",
    "print(specific_date)"
   ]
  },
  {
   "cell_type": "code",
   "execution_count": 33,
   "metadata": {},
   "outputs": [
    {
     "name": "stdout",
     "output_type": "stream",
     "text": [
      "2024-01-18\n",
      "2024-01-10\n"
     ]
    }
   ],
   "source": [
    "#시간 간격 계산\n",
    "from datetime import timedelta\n",
    "# 일주일 후의 날짜 계산\n",
    "one_week_later = today + timedelta(days=7)\n",
    "print(one_week_later)\n",
    "\n",
    "# 하루 전의 날짜 계산\n",
    "yesterday = today - timedelta(days=1)\n",
    "print(yesterday)\n"
   ]
  },
  {
   "cell_type": "code",
   "execution_count": 34,
   "metadata": {},
   "outputs": [
    {
     "name": "stdout",
     "output_type": "stream",
     "text": [
      "2024-01-11 13:34:31\n",
      "2021-01-01 12:00:00\n"
     ]
    }
   ],
   "source": [
    "from datetime import datetime\n",
    "\n",
    "# 날짜와 시간을 문자열로 형식화\n",
    "now = datetime.now()\n",
    "formatted_date = now.strftime(\"%Y-%m-%d %H:%M:%S\")\n",
    "print(formatted_date)\n",
    "\n",
    "# 문자열에서 날짜와 시간 생성\n",
    "date_from_string = datetime.strptime(\"2021-01-01 12:00:00\", \"%Y-%m-%d %H:%M:%S\")\n",
    "print(date_from_string)\n"
   ]
  },
  {
   "cell_type": "code",
   "execution_count": null,
   "metadata": {},
   "outputs": [],
   "source": []
  }
 ],
 "metadata": {
  "kernelspec": {
   "display_name": ".venv",
   "language": "python",
   "name": "python3"
  },
  "language_info": {
   "codemirror_mode": {
    "name": "ipython",
    "version": 3
   },
   "file_extension": ".py",
   "mimetype": "text/x-python",
   "name": "python",
   "nbconvert_exporter": "python",
   "pygments_lexer": "ipython3",
   "version": "3.12.1"
  }
 },
 "nbformat": 4,
 "nbformat_minor": 2
}
