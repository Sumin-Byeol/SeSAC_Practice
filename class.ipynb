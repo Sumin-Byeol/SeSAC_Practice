{
 "cells": [
  {
   "cell_type": "code",
   "execution_count": 2,
   "metadata": {},
   "outputs": [
    {
     "name": "stdout",
     "output_type": "stream",
     "text": [
      "레이 붕붕~\n",
      "레이 끼이읶\n"
     ]
    }
   ],
   "source": [
    "class Car:\n",
    "    def __init__(self, color, brand):\n",
    "        self.color = color\n",
    "        self.brand = brand\n",
    "    def driver(self):\n",
    "        return f\"{self.brand} 붕붕~\" \n",
    "    def stop(self):\n",
    "        return f\"{self.brand} 끼이읶\"\n",
    "    \n",
    "# 객체 생성\n",
    "my_car = Car(\"흰색\", \"레이\")\n",
    "print(my_car.driver())\n",
    "print(my_car.stop())"
   ]
  },
  {
   "cell_type": "code",
   "execution_count": 3,
   "metadata": {},
   "outputs": [
    {
     "name": "stdout",
     "output_type": "stream",
     "text": [
      "안녕? 나는 덤블도어이야. 올해 60사 ㄹ됐어. 내 익스펙트 페트로놈맛 좀 볼래?\n"
     ]
    }
   ],
   "source": [
    "class Wizard:\n",
    "    def __init__(self, name, age, skill):\n",
    "        self.name = name\n",
    "        self.age = age\n",
    "        self.skill = skill\n",
    "    def greet(self):\n",
    "        return f\"안녕? 나는 {self.name}이야. 올해 {self.age}사 ㄹ됐어. 내 {self.skill}맛 좀 볼래?\"\n",
    "    \n",
    "dumbledore = Wizard(\"덤블도어\",60,\"익스펙트 페트로놈\")\n",
    "print(dumbledore.greet())"
   ]
  },
  {
   "cell_type": "code",
   "execution_count": 5,
   "metadata": {},
   "outputs": [],
   "source": [
    "# Zealot 클래스 정의\n",
    "class Zealot:\n",
    "    # 클래스 변수: 모든 인스턴스가 공유하는 변수\n",
    "    velocity = 1.00\n",
    "\n",
    "    # 생성자 메서드: 인스턴스 초기화\n",
    "    def __init__(self, hp, shield, damage):\n",
    "        # 인스턴스 변수: 각 인스턴스가 개별적으로 가지는 변수\n",
    "        self.hp = hp\n",
    "        self.shield = shield\n",
    "        self.damage = damage\n",
    "\n",
    "    # roar 메서드: Zealot 인스턴스의 특정 동작을 수행하는 메서드\n",
    "    def roar(self):\n",
    "        print(\"My life for Aiur!\")\n"
   ]
  },
  {
   "cell_type": "code",
   "execution_count": 6,
   "metadata": {},
   "outputs": [],
   "source": [
    "\n",
    "# Zealot 인스턴스 생성\n",
    "zealot_1 = Zealot(100, 60, 8)\n",
    "zealot_2 = Zealot(100, 60, 8)"
   ]
  },
  {
   "cell_type": "code",
   "execution_count": 7,
   "metadata": {},
   "outputs": [
    {
     "name": "stdout",
     "output_type": "stream",
     "text": [
      "1.0\n",
      "1.0\n",
      "1.0\n"
     ]
    }
   ],
   "source": [
    "# 클래스 변수 velocity 출력 (모든 인스턴스가 공유)\n",
    "print(Zealot.velocity)  # 출력: 1.00\n",
    "\n",
    "# 인스턴스 변수 velocity 출력 (각 인스턴스마다 값은 클래스 변수를 공유)\n",
    "print(zealot_1.velocity)  # 출력: 1.00\n",
    "print(zealot_2.velocity)  # 출력: 1.00"
   ]
  },
  {
   "cell_type": "code",
   "execution_count": 8,
   "metadata": {},
   "outputs": [
    {
     "name": "stdout",
     "output_type": "stream",
     "text": [
      "1.05\n",
      "1.05\n",
      "1.05\n"
     ]
    }
   ],
   "source": [
    "\n",
    "# 클래스 변수 velocity 값 변경\n",
    "Zealot.velocity = 1.05\n",
    "\n",
    "# 변경된 클래스 변수 velocity 출력 (모든 인스턴스가 공유)\n",
    "print(Zealot.velocity)  # 출력: 1.05\n",
    "\n",
    "# 인스턴스 변수 velocity 출력 (각 인스턴스는 클래스 변수의 변경을 반영)\n",
    "print(zealot_1.velocity)  # 출력: 1.05\n",
    "print(zealot_2.velocity)  # 출력: 1.05"
   ]
  },
  {
   "cell_type": "code",
   "execution_count": null,
   "metadata": {},
   "outputs": [],
   "source": []
  }
 ],
 "metadata": {
  "kernelspec": {
   "display_name": ".venv",
   "language": "python",
   "name": "python3"
  },
  "language_info": {
   "codemirror_mode": {
    "name": "ipython",
    "version": 3
   },
   "file_extension": ".py",
   "mimetype": "text/x-python",
   "name": "python",
   "nbconvert_exporter": "python",
   "pygments_lexer": "ipython3",
   "version": "3.12.1"
  }
 },
 "nbformat": 4,
 "nbformat_minor": 2
}
