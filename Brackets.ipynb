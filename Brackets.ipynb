{
 "cells": [
  {
   "cell_type": "code",
   "execution_count": 2,
   "metadata": {},
   "outputs": [
    {
     "name": "stdout",
     "output_type": "stream",
     "text": [
      "Match: Hello\n"
     ]
    }
   ],
   "source": [
    "import re\n",
    "\n",
    "#정규표현식을 컴파일하여 패턴 객체를 반환\n",
    "pattern = re.compile(r'\\b\\w+\\b')\n",
    "\n",
    "#문자열의 처음부터 정규식표현과 매치되는지 조사\n",
    "match_result = pattern.match(\"Hello world\")\n",
    "print(\"Match:\", match_result.group() if match_result else \"NO match\")"
   ]
  },
  {
   "cell_type": "code",
   "execution_count": 3,
   "metadata": {},
   "outputs": [
    {
     "name": "stdout",
     "output_type": "stream",
     "text": [
      "Search: Hello\n"
     ]
    }
   ],
   "source": [
    "#문자열 전체를 검색아여 정규표현식과 매치되는지 조사\n",
    "search_result = pattern.search(\"Hello world\")\n",
    "print(\"Search:\", search_result.group() if search_result else \"No match\")"
   ]
  },
  {
   "cell_type": "code",
   "execution_count": 4,
   "metadata": {},
   "outputs": [
    {
     "name": "stdout",
     "output_type": "stream",
     "text": [
      "Find all ['Hello', 'world']\n"
     ]
    }
   ],
   "source": [
    "#정규표현식과 매치되는 모든 문자열을 리스트로 돌려줌\n",
    "findall_result = pattern.findall(\"Hello world\")\n",
    "print(\"Find all\", findall_result)"
   ]
  },
  {
   "cell_type": "code",
   "execution_count": 5,
   "metadata": {},
   "outputs": [
    {
     "name": "stdout",
     "output_type": "stream",
     "text": [
      "Find iter:\n",
      "- Hello\n",
      "- world\n"
     ]
    }
   ],
   "source": [
    "#정규표현식과 매치되는 모든 문자열을 반복 가능한 객체로 돌려줌\n",
    "finditer_result = pattern.finditer(\"Hello world\")\n",
    "print(\"Find iter:\")\n",
    "for match in finditer_result:\n",
    "    print(f\"- {match.group()}\")"
   ]
  },
  {
   "cell_type": "code",
   "execution_count": null,
   "metadata": {},
   "outputs": [],
   "source": []
  }
 ],
 "metadata": {
  "kernelspec": {
   "display_name": ".venv",
   "language": "python",
   "name": "python3"
  },
  "language_info": {
   "codemirror_mode": {
    "name": "ipython",
    "version": 3
   },
   "file_extension": ".py",
   "mimetype": "text/x-python",
   "name": "python",
   "nbconvert_exporter": "python",
   "pygments_lexer": "ipython3",
   "version": "3.12.1"
  }
 },
 "nbformat": 4,
 "nbformat_minor": 2
}
