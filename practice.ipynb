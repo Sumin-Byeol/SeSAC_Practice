{
 "cells": [
  {
   "cell_type": "code",
   "execution_count": 1,
   "metadata": {},
   "outputs": [
    {
     "name": "stdout",
     "output_type": "stream",
     "text": [
      "산산이 부서진 이름이여!\n",
      "허공 중에서 헤어진 이름이여!\n",
      "불러도 주인 없는 이름이여!\n",
      "부르다가 내가 죽을 이름이여!\n"
     ]
    }
   ],
   "source": [
    "# 문자 자료형 줄바꿈 문자 실습\n",
    "multiline = \"산산이 부서진 이름이여!\\n허공 중에서 헤어진 이름이여!\\n불러도 주인 없는 이름이여!\\n부르다가 내가 죽을 이름이여!\"\n",
    "print(multiline)"
   ]
  },
  {
   "cell_type": "code",
   "execution_count": 2,
   "metadata": {},
   "outputs": [
    {
     "name": "stdout",
     "output_type": "stream",
     "text": [
      "나는 솔로 16기\n"
     ]
    }
   ],
   "source": [
    "# %연산자\n",
    "seson = 16\n",
    "print(\"나는 솔로 %d기\" %seson)"
   ]
  },
  {
   "cell_type": "code",
   "execution_count": 3,
   "metadata": {},
   "outputs": [
    {
     "data": {
      "text/plain": [
       "'내가 제일 좋아하는 카페는  starbucks이야! 그 중에서도 매일 Americano를 매일 마시지! ㅎㅎㅎ'"
      ]
     },
     "execution_count": 3,
     "metadata": {},
     "output_type": "execute_result"
    }
   ],
   "source": [
    "# f-string\n",
    "brand = \"starbucks\"\n",
    "menu = \"Americano\"\n",
    "f'내가 제일 좋아하는 카페는  {brand}이야! 그 중에서도 매일 {menu}를 매일 마시지! ㅎㅎㅎ'"
   ]
  },
  {
   "cell_type": "code",
   "execution_count": 4,
   "metadata": {},
   "outputs": [
    {
     "name": "stdout",
     "output_type": "stream",
     "text": [
      "제 나이는 윤석열 나이로 25살 입니다.\n"
     ]
    }
   ],
   "source": [
    "# f-string\n",
    "age = 26\n",
    "print(f'제 나이는 윤석열 나이로 {age-1}살 입니다.')"
   ]
  },
  {
   "cell_type": "code",
   "execution_count": 5,
   "metadata": {},
   "outputs": [
    {
     "name": "stdout",
     "output_type": "stream",
     "text": [
      "제 MBTI는 ENFP이고, 혈액형은 O형 입니다.\n"
     ]
    }
   ],
   "source": [
    "# format 메소드\n",
    "mbti = 'ENFP'\n",
    "blood = 'O'\n",
    "introduction = '제 MBTI는 {}이고, 혈액형은 {}형 입니다.'.format(mbti, blood)\n",
    "print(introduction)"
   ]
  },
  {
   "cell_type": "code",
   "execution_count": 7,
   "metadata": {},
   "outputs": [
    {
     "name": "stdout",
     "output_type": "stream",
     "text": [
      "안녕하세요?\n"
     ]
    }
   ],
   "source": [
    "# 따옴표 작은따옴표\n",
    "greeting = \"안녕하세요?\"\n",
    "print(greeting)"
   ]
  },
  {
   "cell_type": "code",
   "execution_count": 8,
   "metadata": {},
   "outputs": [
    {
     "name": "stdout",
     "output_type": "stream",
     "text": [
      "미셀  투르니에: \"일은 인간의 복성에 맞지 않는다. 하면 본성에 맞지 않는다. 하면 피곤해지는 게 그 증거다.\"\n"
     ]
    }
   ],
   "source": [
    "# 따옴표 작은 따옴표 안에 큰 따옴표 포함하기\n",
    "quote = '미셀  투르니에: \"일은 인간의 복성에 맞지 않는다. 하면 본성에 맞지 않는다. 하면 피곤해지는 게 그 증거다.\"'\n",
    "print(quote)"
   ]
  },
  {
   "cell_type": "code",
   "execution_count": 9,
   "metadata": {},
   "outputs": [
    {
     "name": "stdout",
     "output_type": "stream",
     "text": [
      "네, 안녕하세요\n"
     ]
    }
   ],
   "source": [
    "# 따옴표 큰 따옴표\n",
    "answer = \"네, 안녕하세요\"\n",
    "print(answer)"
   ]
  },
  {
   "cell_type": "code",
   "execution_count": 10,
   "metadata": {},
   "outputs": [
    {
     "name": "stdout",
     "output_type": "stream",
     "text": [
      "What's your ETA? What's your ETA?\n"
     ]
    }
   ],
   "source": [
    "lyric = \"What's your ETA? What's your ETA?\"\n",
    "print(lyric)"
   ]
  },
  {
   "cell_type": "code",
   "execution_count": 11,
   "metadata": {},
   "outputs": [
    {
     "name": "stdout",
     "output_type": "stream",
     "text": [
      "저 폰은 바다에 버려요.\n",
      " 깊은데 빠뜨려서, 아무도 못 찾게 해요.\n",
      "그 시절은 지나갔고 \n",
      " 이제 거기 남은 건 \n",
      " 아무것도 없다.\n"
     ]
    }
   ],
   "source": [
    "# 따옴표 작은따옴표, 큰 따옴표, 세 작은 따옴표, 세 큰 따옴표 모두 사용 가능하다.\n",
    "multiline = '''저 폰은 바다에 버려요.\n",
    " 깊은데 빠뜨려서, 아무도 못 찾게 해요.'''\n",
    "print(multiline)\n",
    "\n",
    "multiline2 = \"\"\"그 시절은 지나갔고 \n",
    " 이제 거기 남은 건 \n",
    " 아무것도 없다.\"\"\"\n",
    "print(multiline2)"
   ]
  },
  {
   "cell_type": "code",
   "execution_count": 12,
   "metadata": {},
   "outputs": [
    {
     "name": "stdout",
     "output_type": "stream",
     "text": [
      "국경의 긴 터널을 빠져나오자, 설국이었다.\n"
     ]
    }
   ],
   "source": [
    "#문자자료형\n",
    "#문자열 더하기\n",
    "first = \"국경의 긴 터널을 빠져나오자, \"\n",
    "second = \"설국이었다.\"\n",
    "\n",
    "sentence = first + second\n",
    "print(sentence)"
   ]
  },
  {
   "cell_type": "code",
   "execution_count": 13,
   "metadata": {},
   "outputs": [
    {
     "name": "stdout",
     "output_type": "stream",
     "text": [
      "아리랑아리랑아리랑\n"
     ]
    }
   ],
   "source": [
    "#문자열 곱하기\n",
    "arirang = \"아리랑\"\n",
    "print(arirang*3)"
   ]
  },
  {
   "cell_type": "code",
   "execution_count": 14,
   "metadata": {},
   "outputs": [
    {
     "data": {
      "text/plain": [
       "3"
      ]
     },
     "execution_count": 14,
     "metadata": {},
     "output_type": "execute_result"
    }
   ],
   "source": [
    "#문자열 길이 구하기\n",
    "len(arirang)"
   ]
  },
  {
   "cell_type": "code",
   "execution_count": 15,
   "metadata": {},
   "outputs": [
    {
     "data": {
      "text/plain": [
       "'M'"
      ]
     },
     "execution_count": 15,
     "metadata": {},
     "output_type": "execute_result"
    }
   ],
   "source": [
    "#문자 자료형\n",
    "#문자열 인덱싱 (위치)\n",
    "#파이썬은 0부터 시작한다.\n",
    "string = 'Monty Python'\n",
    "string[0]"
   ]
  },
  {
   "cell_type": "code",
   "execution_count": 16,
   "metadata": {},
   "outputs": [
    {
     "data": {
      "text/plain": [
       "'n'"
      ]
     },
     "execution_count": 16,
     "metadata": {},
     "output_type": "execute_result"
    }
   ],
   "source": [
    "#음수를 넣으면?\n",
    "string[-1]"
   ]
  },
  {
   "cell_type": "code",
   "execution_count": 23,
   "metadata": {},
   "outputs": [],
   "source": [
    "def concatenate_strings(str1: str, str2: str) -> str:\n",
    "    oncatenate_strings = (str1 + str2)\n",
    "    assert concatenate_strings(\"안녕\", \"하세요\") == \"안녕하세요\"\n",
    "    return(oncatenate_strings)"
   ]
  },
  {
   "cell_type": "code",
   "execution_count": 26,
   "metadata": {},
   "outputs": [
    {
     "name": "stdout",
     "output_type": "stream",
     "text": [
      "<class 'list'>\n",
      "6\n",
      "012345"
     ]
    }
   ],
   "source": [
    " #리스트 - 반복가능(iterable)\n",
    "my_first_list = [0,1,2,3,4,5]\n",
    "print(type(my_first_list))\n",
    "print(len(my_first_list))\n",
    "for item in my_first_list:\n",
    "    print(item, end=\"\")"
   ]
  },
  {
   "cell_type": "code",
   "execution_count": 28,
   "metadata": {},
   "outputs": [
    {
     "name": "stdout",
     "output_type": "stream",
     "text": [
      "0\n",
      "5\n",
      "3\n",
      "1\n"
     ]
    }
   ],
   "source": [
    " #리스트 - 반복가능(iterable)\n",
    "my_first_list = [0,1,2,3,4,5]\n",
    "print(my_first_list[0])  #맨 처음 원소 인덱싱\n",
    "print(my_first_list[-1])   # 마지막 원소 인덱싱 \n",
    "print(my_first_list[-3])  # 뒤에서 세번째 원소 인덱싱\n",
    "print(my_first_list[6])  # 인덱싱 에러 (범위 밖)"
   ]
  },
  {
   "cell_type": "code",
   "execution_count": null,
   "metadata": {},
   "outputs": [],
   "source": []
  }
 ],
 "metadata": {
  "kernelspec": {
   "display_name": ".venv",
   "language": "python",
   "name": "python3"
  },
  "language_info": {
   "codemirror_mode": {
    "name": "ipython",
    "version": 3
   },
   "file_extension": ".py",
   "mimetype": "text/x-python",
   "name": "python",
   "nbconvert_exporter": "python",
   "pygments_lexer": "ipython3",
   "version": "3.12.1"
  }
 },
 "nbformat": 4,
 "nbformat_minor": 2
}
