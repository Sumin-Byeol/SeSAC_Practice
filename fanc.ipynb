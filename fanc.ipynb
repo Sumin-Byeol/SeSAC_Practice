{
 "cells": [
  {
   "cell_type": "code",
   "execution_count": 31,
   "metadata": {},
   "outputs": [
    {
     "name": "stdout",
     "output_type": "stream",
     "text": [
      "32\n"
     ]
    }
   ],
   "source": [
    "a = 3\n",
    "b = 2\n",
    "print(id(a) - id(b))"
   ]
  },
  {
   "cell_type": "code",
   "execution_count": 32,
   "metadata": {},
   "outputs": [
    {
     "name": "stdout",
     "output_type": "stream",
     "text": [
      "\u0007\n"
     ]
    }
   ],
   "source": [
    "print(\"\\a\")"
   ]
  },
  {
   "cell_type": "code",
   "execution_count": 33,
   "metadata": {},
   "outputs": [
    {
     "name": "stdout",
     "output_type": "stream",
     "text": [
      "안녕하세요\n",
      "안녕하세요\n",
      "안녕하세요\n"
     ]
    }
   ],
   "source": [
    "def print_3_times():\n",
    "    print(\"안녕하세요\")\n",
    "    print(\"안녕하세요\")\n",
    "    print(\"안녕하세요\")\n",
    "\n",
    "print_3_times()"
   ]
  },
  {
   "cell_type": "code",
   "execution_count": 34,
   "metadata": {},
   "outputs": [
    {
     "name": "stdout",
     "output_type": "stream",
     "text": [
      "안녕하세요\n",
      "안녕하세요\n",
      "안녕하세요\n",
      "안녕하세요\n",
      "안녕하세요\n"
     ]
    }
   ],
   "source": [
    "def print_n_times(value, n):\n",
    "    for i in range(n):\n",
    "        print(value)\n",
    "print_n_times(\"안녕하세요\",5)"
   ]
  },
  {
   "cell_type": "code",
   "execution_count": 35,
   "metadata": {},
   "outputs": [
    {
     "name": "stdout",
     "output_type": "stream",
     "text": [
      "더 자라\n"
     ]
    }
   ],
   "source": [
    "day = \"토요일\"\n",
    "time = \"06:30\"\n",
    "if day in [\"토요일\", \"일요일\"] and time == \"06:30\":\n",
    "    print(\"더 자라\")\n",
    "else:\n",
    "    print(\"둥둥둥 굿모닝 둥둥둥! 빠빠빠빠빠빠빠빠빠 굿모닝~!\")"
   ]
  },
  {
   "cell_type": "code",
   "execution_count": 36,
   "metadata": {},
   "outputs": [
    {
     "name": "stdout",
     "output_type": "stream",
     "text": [
      "더 자라\n"
     ]
    }
   ],
   "source": [
    "\n",
    "day = '월요일'\n",
    "holiday = True\n",
    "\n",
    "if day in [\"토요알\", \"일요일 \"]:\n",
    "    print(\"더 자라\")\n",
    "elif holiday:\n",
    "    print(\"더 자라\")\n",
    "else:\n",
    "    print(\"빠ㅃ빠빠 굿모닝\")"
   ]
  },
  {
   "cell_type": "code",
   "execution_count": 37,
   "metadata": {},
   "outputs": [
    {
     "name": "stdout",
     "output_type": "stream",
     "text": [
      "특별 혜택을 제공합니다!\n"
     ]
    }
   ],
   "source": [
    "member_grade = \"Gold\"\n",
    "member_points = 600\n",
    "\n",
    "if member_grade == \"Gold\":\n",
    "    if member_points >= 500:\n",
    "        print(\"특별 혜택을 제공합니다!\")\n",
    "    else:\n",
    "        print(\"포인트가 부족합니다\")\n",
    "else: \n",
    "    print(\"등급이 충분하지 않습니다.\")"
   ]
  },
  {
   "cell_type": "code",
   "execution_count": 38,
   "metadata": {},
   "outputs": [
    {
     "data": {
      "text/plain": [
       "False"
      ]
     },
     "execution_count": 38,
     "metadata": {},
     "output_type": "execute_result"
    }
   ],
   "source": [
    "import time\n",
    "if_admin = False\n",
    "def expensive_operation(): # 비용이 많이 드는 연산\n",
    "    time.sleep(100000000)\n",
    "if_admin and expensive_operation()"
   ]
  },
  {
   "cell_type": "code",
   "execution_count": 39,
   "metadata": {},
   "outputs": [
    {
     "name": "stdout",
     "output_type": "stream",
     "text": [
      "특별 혜택을 제공합니다!\n"
     ]
    }
   ],
   "source": [
    "member_grade = \"Gold\"\n",
    "member_points = 600\n",
    "\n",
    "if member_grade == \"Gold\" and member_points >= 500:\n",
    "        print(\"특별 혜택을 제공합니다!\")\n",
    "elif member_grade == \"Gold\"and member_points >= 500:\n",
    "        print(\"특별 혜택을 제공합니다!\")\n",
    "else: \n",
    "    print(\"등급이 충분하지 않습니다.\")"
   ]
  },
  {
   "cell_type": "code",
   "execution_count": 40,
   "metadata": {},
   "outputs": [
    {
     "name": "stdout",
     "output_type": "stream",
     "text": [
      "그리핀도르!\n"
     ]
    }
   ],
   "source": [
    "import random\n",
    "dormitories = ['그리핀도르', '후플푸프', '래번클로', '슬리데린']\n",
    "for dormitory in dormitories:\n",
    "    selected = random.choice(dormitories)\n",
    "    print(f'{selected}!')\n",
    "    break"
   ]
  },
  {
   "cell_type": "code",
   "execution_count": 41,
   "metadata": {},
   "outputs": [
    {
     "name": "stdout",
     "output_type": "stream",
     "text": [
      "abcdefghijklmnopqrstuvwxyz"
     ]
    }
   ],
   "source": [
    "for char in 'abcdefghijklmnopqrstuvwxyz':\n",
    "    print(char, end = '')"
   ]
  },
  {
   "cell_type": "code",
   "execution_count": 42,
   "metadata": {},
   "outputs": [],
   "source": [
    "evens = []\n",
    "odds = []\n",
    "for number in range(1, 11):\n",
    "    if number % 2 == 0:\n",
    "        evens.append(number)\n",
    "    else:\n",
    "        odds.append(number)"
   ]
  },
  {
   "cell_type": "code",
   "execution_count": 43,
   "metadata": {},
   "outputs": [
    {
     "data": {
      "text/plain": [
       "[0, 1, 2, 3, 4, 5, 6, 7, 8, 9]"
      ]
     },
     "execution_count": 43,
     "metadata": {},
     "output_type": "execute_result"
    }
   ],
   "source": [
    "list(range(10))"
   ]
  },
  {
   "cell_type": "code",
   "execution_count": 44,
   "metadata": {},
   "outputs": [
    {
     "name": "stdout",
     "output_type": "stream",
     "text": [
      "1 * 1 = 1\n",
      "1 * 2 = 2\n",
      "1 * 3 = 3\n",
      "1 * 4 = 4\n",
      "1 * 5 = 5\n",
      "1 * 6 = 6\n",
      "1 * 7 = 7\n",
      "1 * 8 = 8\n",
      "1 * 9 = 9\n",
      "2 * 1 = 2\n",
      "2 * 2 = 4\n",
      "2 * 3 = 6\n",
      "2 * 4 = 8\n",
      "2 * 5 = 10\n",
      "2 * 6 = 12\n",
      "2 * 7 = 14\n",
      "2 * 8 = 16\n",
      "2 * 9 = 18\n",
      "3 * 1 = 3\n",
      "3 * 2 = 6\n",
      "3 * 3 = 9\n",
      "3 * 4 = 12\n",
      "3 * 5 = 15\n",
      "3 * 6 = 18\n",
      "3 * 7 = 21\n",
      "3 * 8 = 24\n",
      "3 * 9 = 27\n",
      "4 * 1 = 4\n",
      "4 * 2 = 8\n",
      "4 * 3 = 12\n",
      "4 * 4 = 16\n",
      "4 * 5 = 20\n",
      "4 * 6 = 24\n",
      "4 * 7 = 28\n",
      "4 * 8 = 32\n",
      "4 * 9 = 36\n",
      "5 * 1 = 5\n",
      "5 * 2 = 10\n",
      "5 * 3 = 15\n",
      "5 * 4 = 20\n",
      "5 * 5 = 25\n",
      "5 * 6 = 30\n",
      "5 * 7 = 35\n",
      "5 * 8 = 40\n",
      "5 * 9 = 45\n",
      "6 * 1 = 6\n",
      "6 * 2 = 12\n",
      "6 * 3 = 18\n",
      "6 * 4 = 24\n",
      "6 * 5 = 30\n",
      "6 * 6 = 36\n",
      "6 * 7 = 42\n",
      "6 * 8 = 48\n",
      "6 * 9 = 54\n",
      "7 * 1 = 7\n",
      "7 * 2 = 14\n",
      "7 * 3 = 21\n",
      "7 * 4 = 28\n",
      "7 * 5 = 35\n",
      "7 * 6 = 42\n",
      "7 * 7 = 49\n",
      "7 * 8 = 56\n",
      "7 * 9 = 63\n",
      "8 * 1 = 8\n",
      "8 * 2 = 16\n",
      "8 * 3 = 24\n",
      "8 * 4 = 32\n",
      "8 * 5 = 40\n",
      "8 * 6 = 48\n",
      "8 * 7 = 56\n",
      "8 * 8 = 64\n",
      "8 * 9 = 72\n",
      "9 * 1 = 9\n",
      "9 * 2 = 18\n",
      "9 * 3 = 27\n",
      "9 * 4 = 36\n",
      "9 * 5 = 45\n",
      "9 * 6 = 54\n",
      "9 * 7 = 63\n",
      "9 * 8 = 72\n",
      "9 * 9 = 81\n"
     ]
    }
   ],
   "source": [
    "#구구단 출력하기\n",
    "for i in range(1, 10):\n",
    "    for j in range(1, 10):\n",
    "        print(f\"{i} * {j} = {i*j}\")"
   ]
  },
  {
   "cell_type": "code",
   "execution_count": 45,
   "metadata": {},
   "outputs": [
    {
     "name": "stdout",
     "output_type": "stream",
     "text": [
      "{1}\n",
      "{1, 2}\n",
      "{1, 2}\n",
      "{1, 2}\n",
      "{1, 2}\n",
      "{1, 2, 5}\n",
      "{1, 2, 5}\n",
      "{1, 2, 5}\n",
      "{1, 2, 5}\n",
      "{1, 2, 5}\n"
     ]
    }
   ],
   "source": [
    "lst = [1, 2, 3, 2, 1, 5, 6, 5, 5, 7]\n",
    "\n",
    "duplicated = set()\n",
    "for i in range(len(lst)):   #리스트의 모든 인덱스를 접근하겠다. 0 ~ 10\n",
    "    # i는 현재 지금 내가 놓여있는 리스트의 위치.\n",
    "    # i + 1은 i 다음.\n",
    "    for j in range(i + 1, len(lst)): # 현재 i 다음 모든 리스트의 요소에 접근하겠다.\n",
    "        if lst[i] == lst[j]:\n",
    "            duplicated.add(lst[i])\n",
    "    print(duplicated)"
   ]
  },
  {
   "cell_type": "code",
   "execution_count": 46,
   "metadata": {},
   "outputs": [
    {
     "name": "stdout",
     "output_type": "stream",
     "text": [
      "입력된 메시지: 종료\n"
     ]
    }
   ],
   "source": [
    "while True:\n",
    "    사용자_입력 = input(\"메시지를 입력하세요 (종료하려면 '종료' 압력): \")\n",
    "    print(f\"입력된 메시지: {사용자_입력}\")\n",
    "    if 사용자_입력 == \"종료\":\n",
    "        break"
   ]
  },
  {
   "cell_type": "code",
   "execution_count": 47,
   "metadata": {},
   "outputs": [
    {
     "name": "stdout",
     "output_type": "stream",
     "text": [
      "1\n",
      "2\n",
      "3\n",
      "4\n",
      "5\n",
      "6\n",
      "7\n",
      "8\n",
      "9\n",
      "10\n"
     ]
    }
   ],
   "source": [
    "for i in range(1,11):\n",
    "    print(i)"
   ]
  },
  {
   "cell_type": "code",
   "execution_count": 30,
   "metadata": {},
   "outputs": [
    {
     "name": "stdout",
     "output_type": "stream",
     "text": [
      "5\n",
      "10\n",
      "15\n",
      "20\n",
      "25\n",
      "30\n",
      "35\n",
      "40\n",
      "45\n",
      "50\n"
     ]
    }
   ],
   "source": [
    "for i in range(5, 51, 5):\n",
    "    if i % 3 ! = 0:\n",
    "    continue\n",
    "    print(i)"
   ]
  },
  {
   "cell_type": "code",
   "execution_count": 48,
   "metadata": {},
   "outputs": [
    {
     "name": "stdout",
     "output_type": "stream",
     "text": [
      "index 0: 사과\n",
      "index 1: 바나나\n",
      "index 2: 체리\n",
      "index 1: 사과\n",
      "index 2: 바나나\n",
      "index 3: 체리\n"
     ]
    }
   ],
   "source": [
    "#lst의 element와 그 인덱스를 출력\n",
    "fruits = ['사과', '바나나', '체리']\n",
    "for index, fruit in enumerate(fruits):\n",
    "    print(f\"index {index}: {fruit}\")\n",
    "\n",
    "#시작 인덱스를 1로 설정하여 순회\n",
    "for index, fruit in enumerate(fruits, 1):\n",
    "    print(f\"index {index}: {fruit}\")"
   ]
  },
  {
   "cell_type": "code",
   "execution_count": 57,
   "metadata": {},
   "outputs": [],
   "source": [
    "# import requests\n",
    "# for i in range(10):\n",
    "#     request.get(\"https://www.google.com\")\n",
    "#     break"
   ]
  },
  {
   "cell_type": "code",
   "execution_count": 62,
   "metadata": {},
   "outputs": [
    {
     "name": "stdout",
     "output_type": "stream",
     "text": [
      "[]\n"
     ]
    }
   ],
   "source": [
    "with open('example.txt', 'r', encoding='utf-8') as file:\n",
    "    print(list(file))\n",
    "    for line in file:\n",
    "        #각 줄에 대한 처리\n",
    "        print(line)"
   ]
  },
  {
   "cell_type": "code",
   "execution_count": 1,
   "metadata": {},
   "outputs": [
    {
     "name": "stdout",
     "output_type": "stream",
     "text": [
      "15\n",
      "5\n"
     ]
    }
   ],
   "source": [
    "def add(a, b):\n",
    "    return a + b\n",
    "def subtract(a, b):\n",
    "    return a - b\n",
    "\n",
    "calc = [add, subtract]\n",
    "\n",
    "for i in calc:\n",
    "    print(i(10,5)) # 15와 5를 출력"
   ]
  },
  {
   "cell_type": "code",
   "execution_count": 4,
   "metadata": {},
   "outputs": [
    {
     "name": "stdout",
     "output_type": "stream",
     "text": [
      "15\n",
      "5\n"
     ]
    }
   ],
   "source": [
    "def add(a, b):\n",
    "    return a + b\n",
    "def subtract(a, b):\n",
    "    return a - b\n",
    "\n",
    "calc = {\n",
    "    \"add\": add,\n",
    "    \"subtract\": subtract,\n",
    "}\n",
    "\n",
    "num1 = calc[\"add\"](10, 5)\n",
    "num2 = calc[\"subtract\"](10,5)\n",
    "\n",
    "print(num1)\n",
    "print(num2)"
   ]
  },
  {
   "cell_type": "code",
   "execution_count": 6,
   "metadata": {},
   "outputs": [
    {
     "name": "stdout",
     "output_type": "stream",
     "text": [
      "Help on class map in module builtins:\n",
      "\n",
      "class map(object)\n",
      " |  map(func, *iterables) --> map object\n",
      " |\n",
      " |  Make an iterator that computes the function using arguments from\n",
      " |  each of the iterables.  Stops when the shortest iterable is exhausted.\n",
      " |\n",
      " |  Methods defined here:\n",
      " |\n",
      " |  __getattribute__(self, name, /)\n",
      " |      Return getattr(self, name).\n",
      " |\n",
      " |  __iter__(self, /)\n",
      " |      Implement iter(self).\n",
      " |\n",
      " |  __next__(self, /)\n",
      " |      Implement next(self).\n",
      " |\n",
      " |  __reduce__(...)\n",
      " |      Return state information for pickling.\n",
      " |\n",
      " |  ----------------------------------------------------------------------\n",
      " |  Static methods defined here:\n",
      " |\n",
      " |  __new__(*args, **kwargs) from builtins.type\n",
      " |      Create and return a new object.  See help(type) for accurate signature.\n",
      "\n"
     ]
    }
   ],
   "source": [
    "help (map)"
   ]
  },
  {
   "cell_type": "code",
   "execution_count": 8,
   "metadata": {},
   "outputs": [
    {
     "name": "stdout",
     "output_type": "stream",
     "text": [
      "[1, 4, 9, 16, 25]\n"
     ]
    }
   ],
   "source": [
    "def power (x):\n",
    "    return x**2\n",
    "numbers = [1, 2, 3, 4, 5]\n",
    "squared = map(power, numbers)\n",
    "print(list(squared))"
   ]
  },
  {
   "cell_type": "code",
   "execution_count": 10,
   "metadata": {},
   "outputs": [],
   "source": [
    "n = []\n",
    "numebers = [1, 2, 3, 4, 5]\n",
    "for i  in numbers:\n",
    "    n.append(i**2)"
   ]
  },
  {
   "cell_type": "code",
   "execution_count": 12,
   "metadata": {},
   "outputs": [
    {
     "data": {
      "text/plain": [
       "[1, 4, 9, 16, 25]"
      ]
     },
     "execution_count": 12,
     "metadata": {},
     "output_type": "execute_result"
    }
   ],
   "source": [
    "numbers = [1,2,3,4,5]\n",
    "[n**2 for n in numbers]"
   ]
  },
  {
   "cell_type": "code",
   "execution_count": 13,
   "metadata": {},
   "outputs": [
    {
     "name": "stdout",
     "output_type": "stream",
     "text": [
      "[1, 2, 3, 4, 5]\n"
     ]
    }
   ],
   "source": [
    "str_numbers = [\"1\", \"2\", \"3\", \"4\", \"5\"]\n",
    "int_numbers = map(int, str_numbers) \n",
    "print(list(int_numbers)) #결과: [1, 2, 3, 4, 5]"
   ]
  },
  {
   "cell_type": "code",
   "execution_count": 14,
   "metadata": {},
   "outputs": [
    {
     "name": "stdout",
     "output_type": "stream",
     "text": [
      "[2, 4]\n"
     ]
    }
   ],
   "source": [
    "def is_even(number):\n",
    "    return number % 2 == 0\n",
    "numbers = [1,2,3,4,5]\n",
    "even_numbers = filter(is_even, numbers)\n",
    "print(list(even_numbers)) # 결과: [2, 4]"
   ]
  },
  {
   "cell_type": "code",
   "execution_count": 15,
   "metadata": {},
   "outputs": [
    {
     "name": "stdout",
     "output_type": "stream",
     "text": [
      "[{'data': '2024-01-01', 'value': 10}]\n"
     ]
    }
   ],
   "source": [
    "data = [\n",
    "    {\"data\": \"2024-01-01\", \"value\": 10},\n",
    "    {\"data\": \"2024-01-02\", \"value\": 15},\n",
    "    {\"data\": \"2024-01-03\", \"value\": 20},\n",
    "]\n",
    "jan_first_data = filter(lambda x: x[\"data\"] == \"2024-01-01\", data)\n",
    "print(list(jan_first_data)) #결과 [{'data': '2024-01-01', 'value': 10}]"
   ]
  },
  {
   "cell_type": "code",
   "execution_count": 24,
   "metadata": {},
   "outputs": [
    {
     "name": "stdout",
     "output_type": "stream",
     "text": [
      "['850505-23455678', '971212-1567890']\n"
     ]
    }
   ],
   "source": [
    "def Korean_drink_alcohol(pid):\n",
    "    birth_year = int(pid.split(\"-\")[0][:2])\n",
    "    millennial = True if int(pid.split(\"-\")[1][0]) >=3 else False\n",
    "    if millennial:\n",
    "        birth_year = 2000 + birth_year\n",
    "    else:\n",
    "        birth_year = 1900 + birth_year\n",
    "    age = 2024 - birth_year >=20\n",
    "    return age\n",
    "\n",
    "students = [\"050123-3234567\", \"850505-23455678\", \"060404-3456789\", \"971212-1567890\"]\n",
    "alcoholer = filter(drink_alcohol, students)\n",
    "print(list(alcoholer))"
   ]
  },
  {
   "cell_type": "code",
   "execution_count": 21,
   "metadata": {},
   "outputs": [
    {
     "data": {
      "text/plain": [
       "5"
      ]
     },
     "execution_count": 21,
     "metadata": {},
     "output_type": "execute_result"
    }
   ],
   "source": [
    "pid = \"050123-3234567\"\n",
    "int(pid.split('-')[0][:2])"
   ]
  },
  {
   "cell_type": "code",
   "execution_count": 23,
   "metadata": {},
   "outputs": [
    {
     "data": {
      "text/plain": [
       "True"
      ]
     },
     "execution_count": 23,
     "metadata": {},
     "output_type": "execute_result"
    }
   ],
   "source": [
    "int(pid.split('-')[1][0]) >=3"
   ]
  },
  {
   "cell_type": "code",
   "execution_count": 1,
   "metadata": {},
   "outputs": [
    {
     "name": "stdout",
     "output_type": "stream",
     "text": [
      "8\n"
     ]
    }
   ],
   "source": [
    "add = lambda x, y: x + y\n",
    "print(add(5,3))"
   ]
  },
  {
   "cell_type": "code",
   "execution_count": 2,
   "metadata": {},
   "outputs": [
    {
     "name": "stdout",
     "output_type": "stream",
     "text": [
      "Sorted by length: ['똘기', '떵이', '호치', '마초', '미미', '몽치', '키키', '새초미', '드라고', '요롱이', '당다리', '찡찡이', '오로라공주']\n",
      "Longest string: 오로라공주\n",
      "Shortest string: 똘기\n"
     ]
    }
   ],
   "source": [
    "strings = [\n",
    "    \"똘기\", \"떵이\", \"호치\", \"새초미\", \"드라고\", \"요롱이\", \n",
    "    \"마초\", \"미미\", \"몽치\", \"키키\", \"당다리\", \"찡찡이\", \"오로라공주\"\n",
    "]\n",
    "strings.sort(key=lambda s: len(s))\n",
    "print(\"Sorted by length:\", strings)\n",
    "longest_string = max(strings, key=lambda s: len(s))\n",
    "print(\"Longest string:\", longest_string)\n",
    "shortest_string = min(strings, key=lambda s: len(s))\n",
    "print(\"Shortest string:\", shortest_string)\n"
   ]
  },
  {
   "cell_type": "code",
   "execution_count": null,
   "metadata": {},
   "outputs": [],
   "source": []
  }
 ],
 "metadata": {
  "kernelspec": {
   "display_name": ".venv",
   "language": "python",
   "name": "python3"
  },
  "language_info": {
   "codemirror_mode": {
    "name": "ipython",
    "version": 3
   },
   "file_extension": ".py",
   "mimetype": "text/x-python",
   "name": "python",
   "nbconvert_exporter": "python",
   "pygments_lexer": "ipython3",
   "version": "3.12.1"
  }
 },
 "nbformat": 4,
 "nbformat_minor": 2
}
